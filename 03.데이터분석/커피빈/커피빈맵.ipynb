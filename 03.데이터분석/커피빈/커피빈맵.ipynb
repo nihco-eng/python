{
 "cells": [
  {
   "cell_type": "code",
   "execution_count": 23,
   "id": "a662dd92",
   "metadata": {},
   "outputs": [],
   "source": [
    "import pandas as pd \n"
   ]
  },
  {
   "cell_type": "code",
   "execution_count": 2,
   "id": "ccbcf7df",
   "metadata": {},
   "outputs": [
    {
     "data": {
      "text/html": [
       "<div>\n",
       "<style scoped>\n",
       "    .dataframe tbody tr th:only-of-type {\n",
       "        vertical-align: middle;\n",
       "    }\n",
       "\n",
       "    .dataframe tbody tr th {\n",
       "        vertical-align: top;\n",
       "    }\n",
       "\n",
       "    .dataframe thead th {\n",
       "        text-align: right;\n",
       "    }\n",
       "</style>\n",
       "<table border=\"1\" class=\"dataframe\">\n",
       "  <thead>\n",
       "    <tr style=\"text-align: right;\">\n",
       "      <th></th>\n",
       "      <th>Name</th>\n",
       "      <th>Address</th>\n",
       "      <th>Tel</th>\n",
       "    </tr>\n",
       "  </thead>\n",
       "  <tbody>\n",
       "    <tr>\n",
       "      <th>0</th>\n",
       "      <td>삼성봉은사거리점</td>\n",
       "      <td>서울시 강남구 영동대로 607 1,2층</td>\n",
       "      <td>02-3443-5618</td>\n",
       "    </tr>\n",
       "    <tr>\n",
       "      <th>1</th>\n",
       "      <td>코엑스웨스틴서울점</td>\n",
       "      <td>서울시 강남구 봉은사로 524 코엑스 인터컨티넨탈아케이드</td>\n",
       "      <td>02-569-3103</td>\n",
       "    </tr>\n",
       "    <tr>\n",
       "      <th>2</th>\n",
       "      <td>삼성오크우드점</td>\n",
       "      <td>서울 강남구 테헤란로87길 46 지하 2층</td>\n",
       "      <td>02-3466-8507</td>\n",
       "    </tr>\n",
       "    <tr>\n",
       "      <th>3</th>\n",
       "      <td>삼성봉은사로점</td>\n",
       "      <td>서울시 강남구 봉은사로 628 엘슨빌딩1층</td>\n",
       "      <td>02-538-4523</td>\n",
       "    </tr>\n",
       "    <tr>\n",
       "      <th>4</th>\n",
       "      <td>도심공항타워점</td>\n",
       "      <td>서울시 강남구 테헤란로87길 36 공항타워 1층</td>\n",
       "      <td>02-2016-5330</td>\n",
       "    </tr>\n",
       "    <tr>\n",
       "      <th>...</th>\n",
       "      <td>...</td>\n",
       "      <td>...</td>\n",
       "      <td>...</td>\n",
       "    </tr>\n",
       "    <tr>\n",
       "      <th>208</th>\n",
       "      <td>강동경희대병원앞점</td>\n",
       "      <td>서울특별시 강동구 동남로 885 양지빌딩 1층</td>\n",
       "      <td>02-481-9938</td>\n",
       "    </tr>\n",
       "    <tr>\n",
       "      <th>209</th>\n",
       "      <td>새문안로점</td>\n",
       "      <td>서울특별시 종로구 새문안로 91 고려빌딩 1,2층</td>\n",
       "      <td>02-739-5806</td>\n",
       "    </tr>\n",
       "    <tr>\n",
       "      <th>210</th>\n",
       "      <td>광화문역1번출구점</td>\n",
       "      <td>서울시 종로구 새문안로5가길 7 1층 일부</td>\n",
       "      <td>02-723-3360</td>\n",
       "    </tr>\n",
       "    <tr>\n",
       "      <th>211</th>\n",
       "      <td>성균관대법학관점</td>\n",
       "      <td>서울시 종로구 성균관로 25-2 성균관대학교 법학관 B2</td>\n",
       "      <td>02-740-1958</td>\n",
       "    </tr>\n",
       "    <tr>\n",
       "      <th>212</th>\n",
       "      <td>경희궁의아침점</td>\n",
       "      <td>서울시 종로구 새문안로3길 23 경희궁아침상가4단지105외</td>\n",
       "      <td>02-730-8896</td>\n",
       "    </tr>\n",
       "  </tbody>\n",
       "</table>\n",
       "<p>213 rows × 3 columns</p>\n",
       "</div>"
      ],
      "text/plain": [
       "          Name                           Address           Tel\n",
       "0     삼성봉은사거리점             서울시 강남구 영동대로 607 1,2층  02-3443-5618\n",
       "1    코엑스웨스틴서울점   서울시 강남구 봉은사로 524 코엑스 인터컨티넨탈아케이드   02-569-3103\n",
       "2      삼성오크우드점           서울 강남구 테헤란로87길 46 지하 2층  02-3466-8507\n",
       "3      삼성봉은사로점           서울시 강남구 봉은사로 628 엘슨빌딩1층   02-538-4523\n",
       "4      도심공항타워점        서울시 강남구 테헤란로87길 36 공항타워 1층  02-2016-5330\n",
       "..         ...                               ...           ...\n",
       "208  강동경희대병원앞점         서울특별시 강동구 동남로 885 양지빌딩 1층   02-481-9938\n",
       "209      새문안로점       서울특별시 종로구 새문안로 91 고려빌딩 1,2층   02-739-5806\n",
       "210  광화문역1번출구점           서울시 종로구 새문안로5가길 7 1층 일부   02-723-3360\n",
       "211   성균관대법학관점   서울시 종로구 성균관로 25-2 성균관대학교 법학관 B2   02-740-1958\n",
       "212    경희궁의아침점  서울시 종로구 새문안로3길 23 경희궁아침상가4단지105외   02-730-8896\n",
       "\n",
       "[213 rows x 3 columns]"
      ]
     },
     "execution_count": 2,
     "metadata": {},
     "output_type": "execute_result"
    }
   ],
   "source": [
    "df = pd.read_csv('커피빈매장.csv')\n",
    "df"
   ]
  },
  {
   "cell_type": "code",
   "execution_count": 3,
   "id": "20eebfb0",
   "metadata": {},
   "outputs": [],
   "source": [
    "import requests\n",
    "import numpy as np\n",
    "\n",
    "def get_location(address):\n",
    "    url = 'https://dapi.kakao.com/v2/local/search/address.json?query='+address\n",
    "    headers = {'Authorization':'KakaoAK 94b799d02f871182dd937e261cfc2783'}\n",
    "    res = requests.get(url, headers=headers).json()\n",
    "    if res['documents']:\n",
    "        x =res['documents'][0]['x']\n",
    "        y =res['documents'][0]['y']\n",
    "    else:\n",
    "        x = np.nan\n",
    "        y = np.nan\n",
    "    return x, y\n",
    "    "
   ]
  },
  {
   "cell_type": "code",
   "execution_count": 4,
   "id": "54676673",
   "metadata": {},
   "outputs": [
    {
     "data": {
      "text/plain": [
       "('126.978652258309', '37.5668260046608')"
      ]
     },
     "execution_count": 4,
     "metadata": {},
     "output_type": "execute_result"
    }
   ],
   "source": [
    "(x, y)= get_location('서울시')\n",
    "(x, y)"
   ]
  },
  {
   "cell_type": "code",
   "execution_count": 5,
   "id": "26cc93a4",
   "metadata": {},
   "outputs": [
    {
     "data": {
      "text/html": [
       "<div>\n",
       "<style scoped>\n",
       "    .dataframe tbody tr th:only-of-type {\n",
       "        vertical-align: middle;\n",
       "    }\n",
       "\n",
       "    .dataframe tbody tr th {\n",
       "        vertical-align: top;\n",
       "    }\n",
       "\n",
       "    .dataframe thead th {\n",
       "        text-align: right;\n",
       "    }\n",
       "</style>\n",
       "<table border=\"1\" class=\"dataframe\">\n",
       "  <thead>\n",
       "    <tr style=\"text-align: right;\">\n",
       "      <th></th>\n",
       "      <th>Name</th>\n",
       "      <th>Address</th>\n",
       "      <th>Tel</th>\n",
       "      <th>X</th>\n",
       "      <th>Y</th>\n",
       "    </tr>\n",
       "  </thead>\n",
       "  <tbody>\n",
       "    <tr>\n",
       "      <th>0</th>\n",
       "      <td>삼성봉은사거리점</td>\n",
       "      <td>서울시 강남구 영동대로 607 1,2층</td>\n",
       "      <td>02-3443-5618</td>\n",
       "      <td></td>\n",
       "      <td></td>\n",
       "    </tr>\n",
       "    <tr>\n",
       "      <th>1</th>\n",
       "      <td>코엑스웨스틴서울점</td>\n",
       "      <td>서울시 강남구 봉은사로 524 코엑스 인터컨티넨탈아케이드</td>\n",
       "      <td>02-569-3103</td>\n",
       "      <td></td>\n",
       "      <td></td>\n",
       "    </tr>\n",
       "  </tbody>\n",
       "</table>\n",
       "</div>"
      ],
      "text/plain": [
       "        Name                          Address           Tel X Y\n",
       "0   삼성봉은사거리점            서울시 강남구 영동대로 607 1,2층  02-3443-5618    \n",
       "1  코엑스웨스틴서울점  서울시 강남구 봉은사로 524 코엑스 인터컨티넨탈아케이드   02-569-3103    "
      ]
     },
     "execution_count": 5,
     "metadata": {},
     "output_type": "execute_result"
    }
   ],
   "source": [
    "store = pd.read_csv('커피빈매장.csv')\n",
    "store['X'] = ''\n",
    "store['Y'] = ''\n",
    "store.head(2)"
   ]
  },
  {
   "cell_type": "code",
   "execution_count": 6,
   "id": "62220a55",
   "metadata": {},
   "outputs": [],
   "source": [
    "for i in store.index :\n",
    "    address = store.loc[i, 'Address']\n",
    "    x, y = get_location(address)\n",
    "    store.loc[i, 'X'] = x\n",
    "    store.loc[i, 'Y'] = y"
   ]
  },
  {
   "cell_type": "code",
   "execution_count": 7,
   "id": "b33da95a",
   "metadata": {},
   "outputs": [],
   "source": [
    "store.isnull().sum()\n",
    "store.dropna(inplace=True)"
   ]
  },
  {
   "cell_type": "code",
   "execution_count": 9,
   "id": "9f36cd26",
   "metadata": {},
   "outputs": [
    {
     "data": {
      "text/plain": [
       "Name       0\n",
       "Address    0\n",
       "Tel        0\n",
       "X          0\n",
       "Y          0\n",
       "dtype: int64"
      ]
     },
     "execution_count": 9,
     "metadata": {},
     "output_type": "execute_result"
    }
   ],
   "source": [
    "store.isnull().sum()"
   ]
  },
  {
   "cell_type": "code",
   "execution_count": 30,
   "id": "e9532c97",
   "metadata": {},
   "outputs": [
    {
     "data": {
      "text/html": [
       "<div>\n",
       "<style scoped>\n",
       "    .dataframe tbody tr th:only-of-type {\n",
       "        vertical-align: middle;\n",
       "    }\n",
       "\n",
       "    .dataframe tbody tr th {\n",
       "        vertical-align: top;\n",
       "    }\n",
       "\n",
       "    .dataframe thead th {\n",
       "        text-align: right;\n",
       "    }\n",
       "</style>\n",
       "<table border=\"1\" class=\"dataframe\">\n",
       "  <thead>\n",
       "    <tr style=\"text-align: right;\">\n",
       "      <th></th>\n",
       "      <th>Name</th>\n",
       "      <th>Address</th>\n",
       "      <th>Tel</th>\n",
       "      <th>X</th>\n",
       "      <th>Y</th>\n",
       "    </tr>\n",
       "  </thead>\n",
       "  <tbody>\n",
       "    <tr>\n",
       "      <th>1</th>\n",
       "      <td>코엑스웨스틴서울점</td>\n",
       "      <td>서울시 강남구 봉은사로 524 코엑스 인터컨티넨탈아케이드</td>\n",
       "      <td>02-569-3103</td>\n",
       "      <td>127.057115600619</td>\n",
       "      <td>37.5129534255276</td>\n",
       "    </tr>\n",
       "    <tr>\n",
       "      <th>2</th>\n",
       "      <td>삼성오크우드점</td>\n",
       "      <td>서울 강남구 테헤란로87길 46 지하 2층</td>\n",
       "      <td>02-3466-8507</td>\n",
       "      <td>127.058205573267</td>\n",
       "      <td>37.5109823973192</td>\n",
       "    </tr>\n",
       "    <tr>\n",
       "      <th>3</th>\n",
       "      <td>삼성봉은사로점</td>\n",
       "      <td>서울시 강남구 봉은사로 628 엘슨빌딩1층</td>\n",
       "      <td>02-538-4523</td>\n",
       "      <td>127.064164448221</td>\n",
       "      <td>37.5146694627537</td>\n",
       "    </tr>\n",
       "    <tr>\n",
       "      <th>4</th>\n",
       "      <td>도심공항타워점</td>\n",
       "      <td>서울시 강남구 테헤란로87길 36 공항타워 1층</td>\n",
       "      <td>02-2016-5330</td>\n",
       "      <td>127.058597240146</td>\n",
       "      <td>37.5102336492314</td>\n",
       "    </tr>\n",
       "    <tr>\n",
       "      <th>5</th>\n",
       "      <td>트레이드타워점</td>\n",
       "      <td>서울시 강남구 영동대로 511 트레이드타워 지하1층</td>\n",
       "      <td>02-803-9994</td>\n",
       "      <td>127.061023782931</td>\n",
       "      <td>37.510356849269</td>\n",
       "    </tr>\n",
       "  </tbody>\n",
       "</table>\n",
       "</div>"
      ],
      "text/plain": [
       "        Name                          Address           Tel                 X  \\\n",
       "1  코엑스웨스틴서울점  서울시 강남구 봉은사로 524 코엑스 인터컨티넨탈아케이드   02-569-3103  127.057115600619   \n",
       "2    삼성오크우드점          서울 강남구 테헤란로87길 46 지하 2층  02-3466-8507  127.058205573267   \n",
       "3    삼성봉은사로점          서울시 강남구 봉은사로 628 엘슨빌딩1층   02-538-4523  127.064164448221   \n",
       "4    도심공항타워점       서울시 강남구 테헤란로87길 36 공항타워 1층  02-2016-5330  127.058597240146   \n",
       "5    트레이드타워점     서울시 강남구 영동대로 511 트레이드타워 지하1층   02-803-9994  127.061023782931   \n",
       "\n",
       "                  Y  \n",
       "1  37.5129534255276  \n",
       "2  37.5109823973192  \n",
       "3  37.5146694627537  \n",
       "4  37.5102336492314  \n",
       "5   37.510356849269  "
      ]
     },
     "execution_count": 30,
     "metadata": {},
     "output_type": "execute_result"
    }
   ],
   "source": [
    "store.head()"
   ]
  },
  {
   "cell_type": "code",
   "execution_count": 31,
   "id": "d568e781",
   "metadata": {},
   "outputs": [],
   "source": [
    "store.to_csv('커피빈맵.csv', index = False)"
   ]
  },
  {
   "cell_type": "code",
   "execution_count": 39,
   "id": "e2fc44bd",
   "metadata": {},
   "outputs": [],
   "source": [
    "store = pd.read_csv('커피빈맵.csv')"
   ]
  },
  {
   "cell_type": "code",
   "execution_count": 34,
   "id": "27ce57c6",
   "metadata": {},
   "outputs": [
    {
     "data": {
      "text/html": [
       "<div>\n",
       "<style scoped>\n",
       "    .dataframe tbody tr th:only-of-type {\n",
       "        vertical-align: middle;\n",
       "    }\n",
       "\n",
       "    .dataframe tbody tr th {\n",
       "        vertical-align: top;\n",
       "    }\n",
       "\n",
       "    .dataframe thead th {\n",
       "        text-align: right;\n",
       "    }\n",
       "</style>\n",
       "<table border=\"1\" class=\"dataframe\">\n",
       "  <thead>\n",
       "    <tr style=\"text-align: right;\">\n",
       "      <th></th>\n",
       "      <th>Name</th>\n",
       "      <th>Address</th>\n",
       "      <th>Tel</th>\n",
       "      <th>X</th>\n",
       "      <th>Y</th>\n",
       "    </tr>\n",
       "  </thead>\n",
       "  <tbody>\n",
       "    <tr>\n",
       "      <th>128</th>\n",
       "      <td>송도트리플스트리트점</td>\n",
       "      <td>인천 연수구 송도과학로 16번길 33-4 D동 119호,207호</td>\n",
       "      <td>032-310-9644</td>\n",
       "      <td>126.662842</td>\n",
       "      <td>37.378661</td>\n",
       "    </tr>\n",
       "    <tr>\n",
       "      <th>129</th>\n",
       "      <td>송도홈플러스점</td>\n",
       "      <td>인천광역시 연수구 송도국제대로 165(송도동) 홈플러스송도점1층</td>\n",
       "      <td>032-822-5905</td>\n",
       "      <td>126.656372</td>\n",
       "      <td>37.380226</td>\n",
       "    </tr>\n",
       "    <tr>\n",
       "      <th>150</th>\n",
       "      <td>영종도운서역점</td>\n",
       "      <td>인천시 중구 신도시남로 142번길 6 (메가스타 영종 139,140,141호)</td>\n",
       "      <td>032-746-9822</td>\n",
       "      <td>126.491490</td>\n",
       "      <td>37.493421</td>\n",
       "    </tr>\n",
       "    <tr>\n",
       "      <th>151</th>\n",
       "      <td>인천공항 T2랜드3F동편점</td>\n",
       "      <td>인천 중구 제2터미널대로 446 인천공항 제2여객터미널 랜드사이드 3층 동편 (GA...</td>\n",
       "      <td>032-743-2894</td>\n",
       "      <td>126.433209</td>\n",
       "      <td>37.469249</td>\n",
       "    </tr>\n",
       "    <tr>\n",
       "      <th>152</th>\n",
       "      <td>인천공항탑승동105gate앞점</td>\n",
       "      <td>인천광역시 중구 공항로272 인천공항 제1여객터미널 탑승동 3층 105GATE앞</td>\n",
       "      <td>032-743-7223</td>\n",
       "      <td>126.427699</td>\n",
       "      <td>37.458351</td>\n",
       "    </tr>\n",
       "  </tbody>\n",
       "</table>\n",
       "</div>"
      ],
      "text/plain": [
       "                 Name                                            Address  \\\n",
       "128        송도트리플스트리트점                인천 연수구 송도과학로 16번길 33-4 D동 119호,207호   \n",
       "129           송도홈플러스점                인천광역시 연수구 송도국제대로 165(송도동) 홈플러스송도점1층   \n",
       "150           영종도운서역점        인천시 중구 신도시남로 142번길 6 (메가스타 영종 139,140,141호)   \n",
       "151    인천공항 T2랜드3F동편점  인천 중구 제2터미널대로 446 인천공항 제2여객터미널 랜드사이드 3층 동편 (GA...   \n",
       "152  인천공항탑승동105gate앞점       인천광역시 중구 공항로272 인천공항 제1여객터미널 탑승동 3층 105GATE앞   \n",
       "\n",
       "              Tel           X          Y  \n",
       "128  032-310-9644  126.662842  37.378661  \n",
       "129  032-822-5905  126.656372  37.380226  \n",
       "150  032-746-9822  126.491490  37.493421  \n",
       "151  032-743-2894  126.433209  37.469249  \n",
       "152  032-743-7223  126.427699  37.458351  "
      ]
     },
     "execution_count": 34,
     "metadata": {},
     "output_type": "execute_result"
    }
   ],
   "source": [
    "address = '인천'\n",
    "filt = store['Address'].str.contains(address)\n",
    "df = store[filt]\n",
    "df"
   ]
  },
  {
   "cell_type": "code",
   "execution_count": 38,
   "id": "b606b22c",
   "metadata": {},
   "outputs": [],
   "source": [
    "import folium\n",
    "import warnings\n",
    "warnings.filterwarnings(action = 'ignore')\n",
    "\n",
    "def get_map(address):\n",
    "    filt = store['Address'].str.contains(address)\n",
    "    df = store[filt]\n",
    "    if len(df.index) == 0:\n",
    "        print('못찾음')\n",
    "    else : \n",
    "        first = df.head(1)\n",
    "        x = first['X']\n",
    "        y = first['Y']\n",
    "        map = folium.Map(location=[y,x], zoom_start=15)\n",
    "        for idx, row in df.iterrows():\n",
    "            name= row['Name']\n",
    "            x = row['X']\n",
    "            y = row['Y']\n",
    "            folium.Marker(location=[y,x], \n",
    "                          popup=folium.Popup(f'[{idx}]{name}', max_width=200), \n",
    "                          icon=folium.Icon(color='red', icon='star')).add_to(map)\n",
    "        map.save(f'{address}.html')\n",
    "\n",
    "get_map('인천')"
   ]
  }
 ],
 "metadata": {
  "kernelspec": {
   "display_name": "Python 3",
   "language": "python",
   "name": "python3"
  },
  "language_info": {
   "codemirror_mode": {
    "name": "ipython",
    "version": 3
   },
   "file_extension": ".py",
   "mimetype": "text/x-python",
   "name": "python",
   "nbconvert_exporter": "python",
   "pygments_lexer": "ipython3",
   "version": "3.13.7"
  }
 },
 "nbformat": 4,
 "nbformat_minor": 5
}
